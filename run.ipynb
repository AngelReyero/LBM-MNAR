{
 "cells": [
  {
   "cell_type": "code",
   "execution_count": 4,
   "metadata": {},
   "outputs": [],
   "source": [
    "import torch\n",
    "import json\n",
    "import argparse\n",
    "import numpy as np\n",
    "from train_procedure import train_with_LBFGS\n",
    "from lbm_nmar import LBM_NMAR\n",
    "from lbfgs import FullBatchLBFGS\n",
    "from utils import reparametrized_expanded_params, init_random_params"
   ]
  },
  {
   "cell_type": "code",
   "execution_count": 6,
   "metadata": {},
   "outputs": [
    {
     "name": "stdout",
     "output_type": "stream",
     "text": [
      "Cuda is not available. Algorithm will use cpu\n"
     ]
    }
   ],
   "source": [
    "##############\" LOADING Arguments\" ################\n",
    "\n",
    "nq = 3 #enter nb of row classes\n",
    "nl = 5 #enter nb of col classes\n",
    "device = 'cuda' #put 'cuda' or 'cpu'\n",
    "device2 = None #put None or 'cuda'\n",
    "\n",
    "if not torch.cuda.is_available() and device != 'cpu':\n",
    "    print('Cuda is not available. Algorithm will use cpu')\n",
    "    device, device2 = torch.device('cpu'), None"
   ]
  },
  {
   "cell_type": "code",
   "execution_count": 38,
   "metadata": {},
   "outputs": [
    {
     "name": "stdout",
     "output_type": "stream",
     "text": [
      "576 1256\n"
     ]
    }
   ],
   "source": [
    "##############\" LOADING DATASET\" ################\n",
    "\n",
    "votes = np.loadtxt(\"data_parliament/votes.txt\",delimiter=\";\").astype(int)\n",
    "\n",
    "deputes = json.load(open('data_parliament/deputes.json', 'r')) \n",
    "#deputes: Dataset with: Family name, Name, Political group \n",
    "texts = json.load(open('data_parliament/texts.json', 'r'))\n",
    "#texts: Dataset with: political group demanding, title of demand, date, type (type of vote, type of majority, name of type of vote), \n",
    "n1, n2 = votes.shape \n",
    "# shape of dataset: \n",
    "# n1= row length , n2 = col length\n",
    "print(n1,n2)"
   ]
  },
  {
   "cell_type": "code",
   "execution_count": 13,
   "metadata": {},
   "outputs": [],
   "source": [
    "##############\" Init and creating model \" ################\n",
    "vector_of_parameters = torch.tensor(init_random_params(n1, n2, nq, nl), requires_grad=True, device=device)"
   ]
  },
  {
   "cell_type": "code",
   "execution_count": 37,
   "metadata": {},
   "outputs": [
    {
     "data": {
      "text/plain": [
       "0.527874206980796"
      ]
     },
     "execution_count": 37,
     "metadata": {},
     "output_type": "execute_result"
    }
   ],
   "source": [
    "np.random.uniform(0.4, 0.7)"
   ]
  },
  {
   "cell_type": "code",
   "execution_count": null,
   "metadata": {},
   "outputs": [],
   "source": [
    "model = LBM_NMAR(\n",
    "    vector_of_parameters,\n",
    "    votes,\n",
    "    (n1, n2, nq, nl),\n",
    "    device=device,\n",
    "    device2=device2,\n",
    ")\n",
    "\n",
    "try:\n",
    "    success, loglike = train_with_LBFGS(model)\n",
    "except KeyboardInterrupt:\n",
    "    print(\"KeyboardInterrupt detected, stopping training\")\n",
    "\n",
    "# Parameters of the model\n",
    "(\n",
    "    nu_a,\n",
    "    rho_a,\n",
    "    nu_b,\n",
    "    rho_b,\n",
    "    nu_p,\n",
    "    rho_p,\n",
    "    nu_q,\n",
    "    rho_q,\n",
    "    tau_1,\n",
    "    tau_2,\n",
    "    mu_un,\n",
    "    sigma_sq_a,\n",
    "    sigma_sq_b,\n",
    "    sigma_sq_p,\n",
    "    sigma_sq_q,\n",
    "    alpha_1,\n",
    "    alpha_2,\n",
    "    pi,\n",
    ") = reparametrized_expanded_params(torch.cat((model.variationnal_params, model.model_params)), n1, n2, nq, nl, device)"
   ]
  },
  {
   "cell_type": "code",
   "execution_count": null,
   "metadata": {},
   "outputs": [],
   "source": [
    "# Get the row and column classes with the MAP on the varitional distributions\n",
    "tau_1 = np.array(tau_1.tolist())\n",
    "tau_2 = np.array(tau_2.tolist())\n",
    "row_classes = tau_1.argmax(axis=1)\n",
    "column_classes = tau_2.argmax(axis=1)\n",
    "print(\"Texts classes : \", column_classes)\n",
    "print(\"MPs classes : \", row_classes)\n",
    "print([[(deputes[i]['nom'], deputes[i]['groupe']) for i, c in enumerate(row_classes) if c == nq] for nq in range(nq)])\n",
    "\n",
    "######### Display the vote matrix, rows and columns re-ordered according to their respective classes.\n",
    "import matplotlib.pyplot as plt\n",
    "plt.imshow(\n",
    "    votes[np.argsort(tau_1.argmax(axis=1)), :][\n",
    "        :, np.argsort(tau_2.argmax(axis=1))\n",
    "    ]\n",
    ")\n",
    "plt.show()\n"
   ]
  }
 ],
 "metadata": {
  "kernelspec": {
   "display_name": "NSA",
   "language": "python",
   "name": "python3"
  },
  "language_info": {
   "codemirror_mode": {
    "name": "ipython",
    "version": 3
   },
   "file_extension": ".py",
   "mimetype": "text/x-python",
   "name": "python",
   "nbconvert_exporter": "python",
   "pygments_lexer": "ipython3",
   "version": "3.11.5"
  }
 },
 "nbformat": 4,
 "nbformat_minor": 2
}
