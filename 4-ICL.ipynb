{
 "cells": [
  {
   "cell_type": "markdown",
   "metadata": {},
   "source": [
    "# Computation of ICL"
   ]
  },
  {
   "cell_type": "markdown",
   "metadata": {},
   "source": [
    "### 0- Import Libraries"
   ]
  },
  {
   "cell_type": "code",
   "execution_count": 1,
   "metadata": {},
   "outputs": [],
   "source": [
    "import numpy as np\n",
    "from fcts.J_fcts import *"
   ]
  },
  {
   "cell_type": "markdown",
   "metadata": {},
   "source": [
    "### 1- ICL computation"
   ]
  },
  {
   "cell_type": "markdown",
   "metadata": {},
   "source": [
    "$E_{q_{\\widehat{\\gamma}}}[log(p(X^o, Y_1, Y_2, A, B, C, D, \\widehat{\\theta}))] - \\frac{L-1}{2}log(n_2) -\\frac{KL+1}{2}log(n_1n_2) - log(n_1n_2)$\n",
    "\n",
    "$\\approx J(\\widehat{\\gamma}, \\widehat{\\theta}) - H(q_{\\widehat{\\gamma}}) - \\frac{K-1}{2}log(n_1) - \\frac{L-1}{2}log(n_2) -\\frac{KL+1}{2}log(n_1n_2) - log(n_1n_2)$"
   ]
  },
  {
   "cell_type": "code",
   "execution_count": 2,
   "metadata": {},
   "outputs": [],
   "source": [
    "def ICL(filepath): \n",
    "    #Parameter definition\n",
    "    loaded_parameters = load_objects_from_yaml(filepath)\n",
    "    K = loaded_parameters['nq']\n",
    "    L = loaded_parameters['nl']\n",
    "    n1 = loaded_parameters['n1']\n",
    "    n2 = loaded_parameters['n2']\n",
    "    vector_of_parameters = torch.tensor(return_all_params(filepath), device=device, dtype=torch.float32)\n",
    "    (nu_a,rho_a,nu_b,rho_b,nu_p,rho_p,nu_q,rho_q,tau_1,tau_2,mu_un,sigma_sq_a,sigma_sq_b,sigma_sq_p,sigma_sq_q,alpha_1,alpha_2,pi) = reparametrized_expanded_params(vector_of_parameters,n1,n2,nq,nl,device,)        \n",
    "    #Computation of J and entropy H\n",
    "    J = criteria(vector_of_parameters) #the function criteria returns -expectation \n",
    "    entropy = entropy_rx(rho_a, rho_b, rho_p, rho_q, tau_1, tau_2)\n",
    "\n",
    "    return  J - entropy - (K-1)*.5*np.log(n1) - (L-1)*.5*np.log(n2) - (K*L + 1)*.5*np.log(n1*n2) - np.log(n1*n2)"
   ]
  },
  {
   "cell_type": "markdown",
   "metadata": {},
   "source": [
    "ICL associated to our problem "
   ]
  },
  {
   "cell_type": "code",
   "execution_count": 3,
   "metadata": {},
   "outputs": [
    {
     "name": "stdout",
     "output_type": "stream",
     "text": [
      "tensor([-294091.6250], device='mps:0')\n"
     ]
    }
   ],
   "source": [
    "print(ICL('trained_parameters.yaml'))"
   ]
  },
  {
   "cell_type": "code",
   "execution_count": 85,
   "metadata": {},
   "outputs": [],
   "source": [
    "filepath = 'trained_parameters.yaml'\n",
    "\n",
    "loaded_parameters = load_objects_from_yaml(filepath)\n",
    "K = loaded_parameters['nq']\n",
    "L = loaded_parameters['nl']\n",
    "n1 = loaded_parameters['n1']\n",
    "n2 = loaded_parameters['n2']\n",
    "vector_of_parameters = torch.tensor(return_all_params(filepath), device=device, dtype=torch.float32)\n",
    "(nu_a,rho_a,nu_b,rho_b,nu_p,rho_p,nu_q,rho_q,tau_1,tau_2,mu_un,sigma_sq_a,sigma_sq_b,sigma_sq_p,sigma_sq_q,alpha_1,alpha_2,pi) = reparametrized_expanded_params(vector_of_parameters,n1,n2,nq,nl,device,)        \n",
    "#Computation of J and entropy H\n",
    "J = criteria(vector_of_parameters) #the function criteria returns -expectation \n",
    "entropy = entropy_rx(rho_a, rho_b, rho_p, rho_q, tau_1, tau_2)"
   ]
  },
  {
   "cell_type": "code",
   "execution_count": null,
   "metadata": {},
   "outputs": [],
   "source": []
  }
 ],
 "metadata": {
  "kernelspec": {
   "display_name": "Python 3",
   "language": "python",
   "name": "python3"
  },
  "language_info": {
   "codemirror_mode": {
    "name": "ipython",
    "version": 3
   },
   "file_extension": ".py",
   "mimetype": "text/x-python",
   "name": "python",
   "nbconvert_exporter": "python",
   "pygments_lexer": "ipython3",
   "version": "3.8.18"
  }
 },
 "nbformat": 4,
 "nbformat_minor": 2
}
