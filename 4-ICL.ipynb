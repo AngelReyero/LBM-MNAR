{
 "cells": [
  {
   "cell_type": "markdown",
   "metadata": {},
   "source": [
    "# Computation of ICL"
   ]
  },
  {
   "cell_type": "markdown",
   "metadata": {},
   "source": [
    "### 0- Import Libraries"
   ]
  },
  {
   "cell_type": "code",
   "execution_count": null,
   "metadata": {},
   "outputs": [],
   "source": [
    "import torch\n",
    "import numpy as np\n",
    "from torch import nn\n",
    "from fcts.J_fcts import *\n",
    "from fcts.utils import reparametrized_expanded_params, d2_DL3_XO, load_objects_from_yaml"
   ]
  },
  {
   "cell_type": "markdown",
   "metadata": {},
   "source": [
    "### 1- ICL computation"
   ]
  },
  {
   "cell_type": "markdown",
   "metadata": {},
   "source": [
    "$E_{q_{\\widehat{\\gamma}}}[log(p(X^o, Y_1, Y_2, A, B, C, D, \\widehat{\\theta}))] - \\frac{L-1}{2}log(n_2) -\\frac{KL+1}{2}log(n_1n_2) - log(n_1n_2)$\n",
    "\n",
    "$\\approx J(\\widehat{\\gamma}, \\widehat{\\theta}) - H(q_{\\widehat{\\gamma}}) - \\frac{K-1}{2}log(n_1) - \\frac{L-1}{2}log(n_2) -\\frac{KL+1}{2}log(n_1n_2) - log(n_1n_2)$"
   ]
  },
  {
   "cell_type": "code",
   "execution_count": 1,
   "metadata": {},
   "outputs": [],
   "source": [
    "def ICL(filepath): \n",
    "    loaded_parameters = load_objects_from_yaml(filepath)\n",
    "    K = loaded_parameters['nq']\n",
    "    L = loaded_parameters['nl']\n",
    "    n1 = loaded_parameters['n1']\n",
    "    n2 = loaded_parameters['n2']\n",
    "    rho_a = loaded_parameters['rho_a']\n",
    "    rho_b = loaded_parameters['rho_b']\n",
    "    rho_p = loaded_parameters['rho_p']\n",
    "    rho_q = loaded_parameters['rho_q']\n",
    "    tau_1 = loaded_parameters['tau_1']\n",
    "    tau_2 = loaded_parameters['tau_2']\n",
    "    J = criteria(filepath)\n",
    "    entropy = entropy_rx(rho_a, rho_b, rho_p, rho_q, tau_1, tau_2)\n",
    "\n",
    "    return  J - entropy - (K-1)*.5*np.log(n1) - (L-1)*.5*np.log(n2) - (K*L + 1)*.5*np.log(n1*n2) - np.log(n1*n2)\n"
   ]
  },
  {
   "cell_type": "markdown",
   "metadata": {},
   "source": [
    "ICL associated to our problem "
   ]
  },
  {
   "cell_type": "code",
   "execution_count": null,
   "metadata": {},
   "outputs": [],
   "source": [
    "print(ICL('trained_parameters.yaml'))"
   ]
  }
 ],
 "metadata": {
  "kernelspec": {
   "display_name": "Python 3",
   "language": "python",
   "name": "python3"
  },
  "language_info": {
   "codemirror_mode": {
    "name": "ipython",
    "version": 3
   },
   "file_extension": ".py",
   "mimetype": "text/x-python",
   "name": "python",
   "nbconvert_exporter": "python",
   "pygments_lexer": "ipython3",
   "version": "3.8.18"
  }
 },
 "nbformat": 4,
 "nbformat_minor": 2
}
