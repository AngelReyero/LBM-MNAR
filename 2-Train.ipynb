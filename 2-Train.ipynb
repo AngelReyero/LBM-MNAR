{
 "cells": [
  {
   "cell_type": "markdown",
   "metadata": {},
   "source": [
    "# Training of the model for parliament dataset"
   ]
  },
  {
   "cell_type": "markdown",
   "metadata": {},
   "source": [
    "### 0- Import librairies"
   ]
  },
  {
   "cell_type": "code",
   "execution_count": 1,
   "metadata": {},
   "outputs": [],
   "source": [
    "import torch\n",
    "import json\n",
    "import numpy as np\n",
    "from fcts.train_procedure import train_with_LBFGS\n",
    "from fcts.lbm_nmar import LBM_NMAR\n",
    "from fcts.utils import reparametrized_expanded_params, init_random_params, save_objects_to_yaml"
   ]
  },
  {
   "cell_type": "markdown",
   "metadata": {},
   "source": [
    "### 1- Load torch parameters"
   ]
  },
  {
   "cell_type": "code",
   "execution_count": 2,
   "metadata": {},
   "outputs": [],
   "source": [
    "# (for Mac) %env PYTORCH_MPS_HIGH_WATERMARK_RATIO=0.0\n",
    "device = 'mps' #put 'cuda' or 'cpu'\n",
    "device2 = 'mps' #put None or 'cuda'\n",
    "\n",
    "if not torch.backends.mps.is_available() and device != 'cpu':\n",
    "    print('Cuda is not available. Algorithm will use cpu')\n",
    "    device, device2 = torch.device('cpu'), None"
   ]
  },
  {
   "cell_type": "markdown",
   "metadata": {},
   "source": [
    "### 2- Load parliament datasets"
   ]
  },
  {
   "cell_type": "code",
   "execution_count": 3,
   "metadata": {},
   "outputs": [],
   "source": [
    "#votes: matrix gathering votes for several laws and politicians (1: positive, 0: missing/abstention, -1: negative)\n",
    "votes = np.loadtxt(\"data_parliament/votes.txt\",delimiter=\";\").astype(int)\n",
    "\n",
    "#deputes: Family name, Name, Political group \n",
    "deputes = json.load(open('data_parliament/deputes.json', 'r')) \n",
    "\n",
    "#texts:  political group demanding the law, title of demand, date, type (type of vote, type of majority, name of type of vote), \n",
    "texts = json.load(open('data_parliament/texts.json', 'r')) "
   ]
  },
  {
   "cell_type": "code",
   "execution_count": 4,
   "metadata": {},
   "outputs": [],
   "source": [
    "#indices\n",
    "indices_p = np.argwhere(votes == 1) #argwhere: matrix with couples (row,column) with 1 values \n",
    "indices_n = np.argwhere(votes == -1) #idem with -1\n",
    "indices_zeros = np.argwhere(votes == 0) #idem with 0 "
   ]
  },
  {
   "cell_type": "markdown",
   "metadata": {},
   "source": [
    "### 3- Training "
   ]
  },
  {
   "cell_type": "markdown",
   "metadata": {},
   "source": [
    "#### a - Parameter initialization"
   ]
  },
  {
   "cell_type": "markdown",
   "metadata": {},
   "source": [
    "Dataset shapes"
   ]
  },
  {
   "cell_type": "code",
   "execution_count": 5,
   "metadata": {},
   "outputs": [],
   "source": [
    "#Shape of votes dataset: number of rows and columns\n",
    "n1, n2 = votes.shape\n",
    "\n",
    "# Select number of row clusters\n",
    "nq = 3# COMPLETE\n",
    "\n",
    "# Select number of column clusters\n",
    "nl = 5 # COMPLETE"
   ]
  },
  {
   "cell_type": "markdown",
   "metadata": {},
   "source": [
    "Initialization of ($\\gamma, \\theta$)"
   ]
  },
  {
   "cell_type": "code",
   "execution_count": 6,
   "metadata": {},
   "outputs": [],
   "source": [
    "vector_of_parameters = torch.tensor(init_random_params(n1, n2, nq, nl), requires_grad=True, device=device, dtype=torch.float32)"
   ]
  },
  {
   "cell_type": "markdown",
   "metadata": {},
   "source": [
    "#### b- Model creation"
   ]
  },
  {
   "cell_type": "code",
   "execution_count": 7,
   "metadata": {},
   "outputs": [],
   "source": [
    "model = LBM_NMAR(\n",
    "    vector_of_parameters,\n",
    "    votes,\n",
    "    (n1, n2, nq, nl),\n",
    "    device=device,\n",
    "    device2=device2,\n",
    ")"
   ]
  },
  {
   "cell_type": "markdown",
   "metadata": {},
   "source": [
    "#### c- Train model "
   ]
  },
  {
   "cell_type": "markdown",
   "metadata": {},
   "source": [
    "Perform variational EM "
   ]
  },
  {
   "cell_type": "code",
   "execution_count": 8,
   "metadata": {},
   "outputs": [
    {
     "name": "stdout",
     "output_type": "stream",
     "text": [
      "-------------------------------------------------------------------------------- \n",
      "Start training LBM MNAR \n",
      " --------------------------------------------------------------------------------\n",
      "Number of row classes :  3\n",
      "Number of col classes :  5\n",
      " EM step  |   LBFGS iter  | criteria |\n"
     ]
    },
    {
     "name": "stderr",
     "output_type": "stream",
     "text": [
      "/Users/laurafuentesvicente/M2 Maths&IA/Methodes Non Supervises avancees/Projet/LBM-MNAR/fcts/lbfgs.py:339: UserWarning: This overload of add_ is deprecated:\n",
      "\tadd_(Number alpha, Tensor other)\n",
      "Consider using one of the following signatures instead:\n",
      "\tadd_(Tensor other, *, Number alpha) (Triggered internally at /Users/runner/work/pytorch/pytorch/pytorch/torch/csrc/utils/python_arg_parser.cpp:1519.)\n",
      "  p.data.add_(\n"
     ]
    },
    {
     "name": "stdout",
     "output_type": "stream",
     "text": [
      " 0  |   1  | 345652.68750 |\n",
      " 0  |   2  | 328068.34375 |\n",
      " 0  |   3  | 322284.31250 |\n",
      " 0  |   4  | 318931.15625 |\n",
      " 0  |   5  | 317952.96875 |\n",
      " 0  |   6  | 317139.96875 |\n",
      " 0  |   7  | 316672.43750 |\n",
      " 0  |   8  | 316295.25000 |\n",
      " 0  |   9  | 315987.59375 |\n",
      " 0  |   10  | 315570.31250 |\n",
      " 0  |   11  | 315275.34375 |\n",
      " 0  |   12  | 314761.68750 |\n",
      " 0  |   13  | 314357.25000 |\n",
      " 0  |   14  | 313674.21875 |\n",
      " 0  |   15  | 313330.78125 |\n",
      " 0  |   16  | 312713.71875 |\n",
      " 0  |   17  | 312278.84375 |\n",
      " 0  |   18  | 311558.90625 |\n",
      " 0  |   19  | 311093.96875 |\n",
      " 0  |   20  | 310866.75000 |\n",
      " 0  |   21  | 310674.71875 |\n",
      " 0  |   22  | 310667.18750 |\n",
      " 0  |   23  | 310662.84375 |\n",
      " 0  |   24  | 310661.84375 |\n",
      " 0  |   25  | 310661.50000 |\n",
      " 0  |   26  | 310661.40625 |\n",
      " 0  |   27  | 310661.34375 |\n",
      " 0  |   28  | 310661.34375 |\n",
      "------------------------------  Optimizing next EM step  ------------------------------\n",
      " EM step  |   LBFGS iter  | criteria |\n",
      " 1  |   1  | 309192.96875 |\n",
      " 1  |   2  | 307797.06250 |\n",
      " 1  |   3  | 307229.65625 |\n",
      " 1  |   4  | 306926.53125 |\n",
      " 1  |   5  | 306640.00000 |\n",
      " 1  |   6  | 306438.28125 |\n",
      " 1  |   7  | 306329.12500 |\n",
      " 1  |   8  | 306298.87500 |\n",
      " 1  |   9  | 306241.34375 |\n",
      " 1  |   10  | 306156.87500 |\n",
      " 1  |   11  | 306075.12500 |\n",
      " 1  |   12  | 306049.96875 |\n",
      " 1  |   13  | 306043.28125 |\n",
      " 1  |   14  | 306036.18750 |\n",
      " 1  |   15  | 306022.06250 |\n",
      " 1  |   16  | 306003.06250 |\n",
      " 1  |   17  | 305991.84375 |\n",
      " 1  |   18  | 305983.62500 |\n",
      " 1  |   19  | 305980.37500 |\n",
      " 1  |   20  | 305979.59375 |\n",
      " 1  |   21  | 305977.18750 |\n",
      " 1  |   22  | 305975.28125 |\n",
      " 1  |   23  | 305974.15625 |\n",
      " 1  |   24  | 305973.81250 |\n",
      " 1  |   25  | 305973.56250 |\n",
      " 1  |   26  | 305973.37500 |\n",
      " 1  |   27  | 305973.12500 |\n",
      " 1  |   28  | 305973.00000 |\n",
      " 1  |   29  | 305972.93750 |\n",
      " 1  |   30  | 305972.90625 |\n",
      " 1  |   31  | 305972.87500 |\n",
      " 1  |   32  | 305972.84375 |\n",
      " 1  |   33  | 305972.84375 |\n",
      "------------------------------  Optimizing next EM step  ------------------------------\n",
      " EM step  |   LBFGS iter  | criteria |\n",
      " 2  |   1  | 305697.68750 |\n",
      " 2  |   2  | 305485.59375 |\n",
      " 2  |   3  | 305293.87500 |\n",
      " 2  |   4  | 305201.09375 |\n",
      " 2  |   5  | 305131.18750 |\n",
      " 2  |   6  | 305066.84375 |\n",
      " 2  |   7  | 304999.37500 |\n",
      " 2  |   8  | 304928.90625 |\n",
      " 2  |   9  | 304798.09375 |\n",
      " 2  |   10  | 304671.15625 |\n",
      " 2  |   11  | 304475.87500 |\n",
      " 2  |   12  | 304284.18750 |\n",
      " 2  |   13  | 304037.46875 |\n",
      " 2  |   14  | 303837.25000 |\n",
      " 2  |   15  | 303646.03125 |\n",
      " 2  |   16  | 303366.68750 |\n",
      " 2  |   17  | 302672.78125 |\n",
      " 2  |   18  | 301838.15625 |\n",
      " 2  |   19  | 301450.75000 |\n",
      " 2  |   20  | 301318.25000 |\n",
      " 2  |   21  | 301258.56250 |\n",
      " 2  |   22  | 301222.59375 |\n",
      " 2  |   23  | 301211.21875 |\n",
      " 2  |   24  | 301205.06250 |\n",
      " 2  |   25  | 301201.50000 |\n",
      " 2  |   26  | 301201.00000 |\n",
      " 2  |   27  | 301200.78125 |\n",
      " 2  |   28  | 301200.65625 |\n",
      " 2  |   29  | 301200.62500 |\n",
      " 2  |   30  | 301200.62500 |\n",
      "------------------------------  Optimizing next EM step  ------------------------------\n",
      " EM step  |   LBFGS iter  | criteria |\n",
      " 3  |   1  | 301167.18750 |\n",
      " 3  |   2  | 301131.31250 |\n",
      " 3  |   3  | 301006.06250 |\n",
      " 3  |   4  | 300991.31250 |\n",
      " 3  |   5  | 300983.43750 |\n",
      " 3  |   6  | 300974.84375 |\n",
      " 3  |   7  | 300939.34375 |\n",
      " 3  |   8  | 300906.90625 |\n",
      " 3  |   9  | 300893.96875 |\n",
      " 3  |   10  | 300883.50000 |\n",
      " 3  |   11  | 300882.59375 |\n",
      " 3  |   12  | 300882.09375 |\n",
      " 3  |   13  | 300880.18750 |\n",
      " 3  |   14  | 300878.71875 |\n",
      " 3  |   15  | 300876.28125 |\n",
      " 3  |   16  | 300875.40625 |\n",
      " 3  |   17  | 300875.00000 |\n",
      " 3  |   18  | 300875.00000 |\n",
      "------------------------------  Optimizing next EM step  ------------------------------\n",
      " EM step  |   LBFGS iter  | criteria |\n",
      "Objective function is NAN. Probably due to empty class\n"
     ]
    }
   ],
   "source": [
    "try:\n",
    "    success, loglike = train_with_LBFGS(model)\n",
    "except KeyboardInterrupt:\n",
    "    print(\"KeyboardInterrupt detected, stopping training\")"
   ]
  },
  {
   "cell_type": "markdown",
   "metadata": {},
   "source": [
    "Reparametrization"
   ]
  },
  {
   "cell_type": "code",
   "execution_count": 9,
   "metadata": {},
   "outputs": [],
   "source": [
    "(   nu_a,\n",
    "    rho_a,\n",
    "    nu_b,\n",
    "    rho_b,\n",
    "    nu_p,\n",
    "    rho_p,\n",
    "    nu_q,\n",
    "    rho_q,\n",
    "    tau_1,\n",
    "    tau_2,\n",
    "    mu_un,\n",
    "    sigma_sq_a,\n",
    "    sigma_sq_b,\n",
    "    sigma_sq_p,\n",
    "    sigma_sq_q,\n",
    "    alpha_1,\n",
    "    alpha_2,\n",
    "    pi,\n",
    ") = reparametrized_expanded_params(torch.cat((model.variationnal_params, model.model_params)), n1, n2, nq, nl, device)"
   ]
  },
  {
   "cell_type": "markdown",
   "metadata": {},
   "source": [
    "Save parameters in YAML file (trained_parameters.yaml)"
   ]
  },
  {
   "cell_type": "code",
   "execution_count": 10,
   "metadata": {},
   "outputs": [],
   "source": [
    "parameters_dict = {\n",
    "    'n1': n1, \n",
    "    'n2': n2,\n",
    "    'nq': nq, \n",
    "    'nl': nl,\n",
    "    'nu_a':nu_a,\n",
    "    'rho_a':rho_a,\n",
    "    'nu_b':nu_b,\n",
    "    'rho_b':rho_b,\n",
    "    'nu_p': nu_p,\n",
    "    'rho_p':rho_p,\n",
    "    'nu_q':nu_q,\n",
    "    'rho_q':rho_q,\n",
    "    'tau_1':tau_1,\n",
    "    'tau_2':tau_2,\n",
    "    'mu_un':mu_un,\n",
    "    'sigma_sq_a': sigma_sq_a,\n",
    "    'sigma_sq_b':sigma_sq_b,\n",
    "    'sigma_sq_p':sigma_sq_p,\n",
    "    'sigma_sq_q':sigma_sq_q,\n",
    "    'alpha_1':alpha_1,\n",
    "    'alpha_2':alpha_2,\n",
    "    'pi':pi,\n",
    "    'indices_p': indices_p,\n",
    "    'indices_n':indices_n,\n",
    "    'indices_zeros': indices_zeros,\n",
    "    'device': device, \n",
    "    'device2': device2,\n",
    "}\n",
    "\n",
    "save_objects_to_yaml(parameters_dict, 'trained_parameters.yaml')"
   ]
  }
 ],
 "metadata": {
  "kernelspec": {
   "display_name": "Python 3",
   "language": "python",
   "name": "python3"
  },
  "language_info": {
   "codemirror_mode": {
    "name": "ipython",
    "version": 3
   },
   "file_extension": ".py",
   "mimetype": "text/x-python",
   "name": "python",
   "nbconvert_exporter": "python",
   "pygments_lexer": "ipython3",
   "version": "3.8.18"
  }
 },
 "nbformat": 4,
 "nbformat_minor": 2
}
