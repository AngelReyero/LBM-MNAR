{
 "cells": [
  {
   "cell_type": "markdown",
   "metadata": {},
   "source": [
    "# Training of the model for parliament dataset"
   ]
  },
  {
   "cell_type": "markdown",
   "metadata": {},
   "source": [
    "### 0- Import librairies"
   ]
  },
  {
   "cell_type": "code",
   "execution_count": 1,
   "metadata": {},
   "outputs": [],
   "source": [
    "import torch\n",
    "import json\n",
    "import numpy as np\n",
    "from fcts.train_procedure import train_with_LBFGS\n",
    "from fcts.lbm_nmar import LBM_NMAR\n",
    "from fcts.utils import reparametrized_expanded_params, init_random_params, save_objects_to_yaml"
   ]
  },
  {
   "cell_type": "markdown",
   "metadata": {},
   "source": [
    "### 1- Load torch parameters"
   ]
  },
  {
   "cell_type": "code",
   "execution_count": 2,
   "metadata": {},
   "outputs": [],
   "source": [
    "# (for Mac) %env PYTORCH_MPS_HIGH_WATERMARK_RATIO=0.0\n",
    "device = 'mps' #put 'cuda', 'cpu' or 'mps' (for Mac)\n",
    "device2 = 'mps' #put None, 'cuda' or 'mps' (for Mac)\n",
    "\n",
    "if not torch.backends.mps.is_available() and device != 'cpu':\n",
    "    print('Cuda is not available. Algorithm will use cpu')\n",
    "    device, device2 = torch.device('cpu'), None"
   ]
  },
  {
   "cell_type": "markdown",
   "metadata": {},
   "source": [
    "### 2- Load parliament datasets"
   ]
  },
  {
   "cell_type": "code",
   "execution_count": 3,
   "metadata": {},
   "outputs": [],
   "source": [
    "#votes: matrix gathering votes for several laws and politicians (1: positive, 0: missing/abstention, -1: negative)\n",
    "votes = np.loadtxt(\"data_parliament/votes.txt\",delimiter=\";\").astype(int)\n",
    "\n",
    "#deputes: Family name, Name, Political group \n",
    "deputes = json.load(open('data_parliament/deputes.json', 'r')) \n",
    "\n",
    "#texts:  political group demanding the law, title of demand, date, type (type of vote, type of majority, name of type of vote), \n",
    "texts = json.load(open('data_parliament/texts.json', 'r')) "
   ]
  },
  {
   "cell_type": "code",
   "execution_count": 4,
   "metadata": {},
   "outputs": [],
   "source": [
    "#indices\n",
    "indices_p = np.argwhere(votes == 1) #argwhere: matrix with couples (row,column) with 1 values \n",
    "indices_n = np.argwhere(votes == -1) #idem with -1\n",
    "indices_zeros = np.argwhere(votes == 0) #idem with 0 "
   ]
  },
  {
   "cell_type": "markdown",
   "metadata": {},
   "source": [
    "### 3- Training "
   ]
  },
  {
   "cell_type": "markdown",
   "metadata": {},
   "source": [
    "#### a - Parameter initialization"
   ]
  },
  {
   "cell_type": "markdown",
   "metadata": {},
   "source": [
    "Dataset shapes"
   ]
  },
  {
   "cell_type": "code",
   "execution_count": 5,
   "metadata": {},
   "outputs": [],
   "source": [
    "#Shape of votes dataset: number of rows and columns\n",
    "n1, n2 = votes.shape\n",
    "\n",
    "# Select number of row clusters\n",
    "nq = 3# COMPLETE\n",
    "\n",
    "# Select number of column clusters\n",
    "nl = 5 # COMPLETE"
   ]
  },
  {
   "cell_type": "markdown",
   "metadata": {},
   "source": [
    "Initialization of ($\\gamma, \\theta$)"
   ]
  },
  {
   "cell_type": "code",
   "execution_count": 6,
   "metadata": {},
   "outputs": [],
   "source": [
    "vector_of_parameters = torch.tensor(init_random_params(n1, n2, nq, nl), requires_grad=True, device=device, dtype=torch.float32)"
   ]
  },
  {
   "cell_type": "markdown",
   "metadata": {},
   "source": [
    "#### b- Model creation"
   ]
  },
  {
   "cell_type": "code",
   "execution_count": 7,
   "metadata": {},
   "outputs": [],
   "source": [
    "model = LBM_NMAR(\n",
    "    vector_of_parameters,\n",
    "    votes,\n",
    "    (n1, n2, nq, nl),\n",
    "    device=device,\n",
    "    device2=device2,\n",
    ")"
   ]
  },
  {
   "cell_type": "markdown",
   "metadata": {},
   "source": [
    "#### c- Train model "
   ]
  },
  {
   "cell_type": "markdown",
   "metadata": {},
   "source": [
    "Perform variational EM: \n",
    "\n",
    "VEM step % 2 = 0: VE step, where we maximize the variational parameters $\\gamma$\n",
    "\n",
    "\n",
    "VEM step % 2 = 1: M step, where we maximize the model parameters $\\theta$"
   ]
  },
  {
   "cell_type": "code",
   "execution_count": 8,
   "metadata": {},
   "outputs": [
    {
     "name": "stdout",
     "output_type": "stream",
     "text": [
      "-------------------------------------------------------------------------------- \n",
      "Start training LBM MNAR \n",
      " --------------------------------------------------------------------------------\n",
      "Number of row classes :  3\n",
      "Number of col classes :  5\n",
      " VEM step  |   LBFGS iter  | criteria |\n"
     ]
    },
    {
     "name": "stderr",
     "output_type": "stream",
     "text": [
      "/Users/laurafuentesvicente/M2 Maths&IA/Methodes Non Supervises avancees/Projet/LBM-MNAR/fcts/lbfgs.py:339: UserWarning: This overload of add_ is deprecated:\n",
      "\tadd_(Number alpha, Tensor other)\n",
      "Consider using one of the following signatures instead:\n",
      "\tadd_(Tensor other, *, Number alpha) (Triggered internally at /Users/runner/work/pytorch/pytorch/pytorch/torch/csrc/utils/python_arg_parser.cpp:1519.)\n",
      "  p.data.add_(\n"
     ]
    },
    {
     "name": "stdout",
     "output_type": "stream",
     "text": [
      " 0  |   1  | 340860.00000 |\n",
      " 0  |   2  | 325354.81250 |\n",
      " 0  |   3  | 320078.50000 |\n",
      " 0  |   4  | 318055.71875 |\n",
      " 0  |   5  | 316737.68750 |\n",
      " 0  |   6  | 316279.40625 |\n",
      " 0  |   7  | 315800.68750 |\n",
      " 0  |   8  | 315572.56250 |\n",
      " 0  |   9  | 315266.43750 |\n",
      " 0  |   10  | 315061.68750 |\n",
      " 0  |   11  | 314828.56250 |\n",
      " 0  |   12  | 314417.81250 |\n",
      " 0  |   13  | 314065.03125 |\n",
      " 0  |   14  | 313672.81250 |\n",
      " 0  |   15  | 312967.09375 |\n",
      " 0  |   16  | 312438.81250 |\n",
      " 0  |   17  | 311862.21875 |\n",
      " 0  |   18  | 311398.25000 |\n",
      " 0  |   19  | 311341.21875 |\n",
      " 0  |   20  | 311338.09375 |\n",
      " 0  |   21  | 311338.06250 |\n",
      "Curvature pair skipped due to failed criterion\n",
      " 0  |   22  | 311338.06250 |\n",
      "------------------------------  Optimizing next EM step  ------------------------------\n",
      " EM step  |   LBFGS iter  | criteria |\n",
      " 1  |   1  | 310200.18750 |\n",
      " 1  |   2  | 308644.34375 |\n",
      " 1  |   3  | 307101.46875 |\n",
      " 1  |   4  | 306942.78125 |\n",
      " 1  |   5  | 306556.90625 |\n",
      " 1  |   6  | 306339.68750 |\n",
      " 1  |   7  | 305942.18750 |\n",
      " 1  |   8  | 305876.65625 |\n",
      " 1  |   9  | 305848.03125 |\n",
      " 1  |   10  | 305822.43750 |\n",
      " 1  |   11  | 305803.59375 |\n",
      " 1  |   12  | 305770.46875 |\n",
      " 1  |   13  | 305757.93750 |\n",
      " 1  |   14  | 305753.00000 |\n",
      " 1  |   15  | 305748.37500 |\n",
      " 1  |   16  | 305745.50000 |\n",
      " 1  |   17  | 305743.68750 |\n",
      " 1  |   18  | 305742.84375 |\n",
      " 1  |   19  | 305742.40625 |\n",
      " 1  |   20  | 305742.09375 |\n",
      " 1  |   21  | 305741.90625 |\n",
      " 1  |   22  | 305741.84375 |\n",
      " 1  |   23  | 305741.81250 |\n",
      " 1  |   24  | 305741.78125 |\n",
      " 1  |   25  | 305741.78125 |\n",
      "------------------------------  Optimizing next EM step  ------------------------------\n",
      " EM step  |   LBFGS iter  | criteria |\n",
      " 2  |   1  | 305525.75000 |\n",
      " 2  |   2  | 305337.53125 |\n",
      " 2  |   3  | 305196.81250 |\n",
      " 2  |   4  | 305089.75000 |\n",
      " 2  |   5  | 305025.84375 |\n",
      " 2  |   6  | 304982.37500 |\n",
      " 2  |   7  | 304918.71875 |\n",
      " 2  |   8  | 304846.21875 |\n",
      " 2  |   9  | 304699.81250 |\n",
      " 2  |   10  | 304602.65625 |\n",
      " 2  |   11  | 304374.18750 |\n",
      " 2  |   12  | 304257.37500 |\n",
      " 2  |   13  | 303947.00000 |\n",
      " 2  |   14  | 303599.93750 |\n",
      " 2  |   15  | 303083.56250 |\n",
      " 2  |   16  | 302449.56250 |\n",
      " 2  |   17  | 301673.00000 |\n",
      " 2  |   18  | 300344.25000 |\n",
      " 2  |   19  | 298844.06250 |\n",
      " 2  |   20  | 298375.68750 |\n",
      " 2  |   21  | 298226.40625 |\n",
      " 2  |   22  | 298125.96875 |\n",
      " 2  |   23  | 298119.37500 |\n",
      " 2  |   24  | 298119.28125 |\n",
      " 2  |   25  | 298119.21875 |\n",
      " 2  |   26  | 298119.15625 |\n",
      " 2  |   27  | 298119.15625 |\n",
      "------------------------------  Optimizing next EM step  ------------------------------\n",
      " EM step  |   LBFGS iter  | criteria |\n",
      " 3  |   1  | 298100.90625 |\n",
      " 3  |   2  | 298070.15625 |\n",
      " 3  |   3  | 298031.18750 |\n",
      " 3  |   4  | 298025.65625 |\n",
      " 3  |   5  | 298015.25000 |\n",
      " 3  |   6  | 298008.50000 |\n",
      " 3  |   7  | 297990.62500 |\n",
      " 3  |   8  | 297983.00000 |\n",
      " 3  |   9  | 297978.50000 |\n",
      " 3  |   10  | 297978.25000 |\n",
      " 3  |   11  | 297977.96875 |\n",
      " 3  |   12  | 297977.56250 |\n",
      " 3  |   13  | 297976.93750 |\n",
      " 3  |   14  | 297976.43750 |\n",
      " 3  |   15  | 297975.87500 |\n",
      " 3  |   16  | 297975.75000 |\n",
      " 3  |   17  | 297975.62500 |\n",
      " 3  |   18  | 297975.53125 |\n",
      " 3  |   19  | 297975.43750 |\n",
      " 3  |   20  | 297975.34375 |\n",
      " 3  |   21  | 297975.31250 |\n",
      " 3  |   22  | 297975.28125 |\n",
      " 3  |   23  | 297975.18750 |\n",
      " 3  |   24  | 297975.12500 |\n",
      " 3  |   25  | 297975.12500 |\n",
      "------------------------------  Optimizing next EM step  ------------------------------\n",
      " EM step  |   LBFGS iter  | criteria |\n",
      " 4  |   1  | 297334.84375 |\n",
      " 4  |   2  | 296756.62500 |\n",
      " 4  |   3  | 296442.21875 |\n",
      " 4  |   4  | 296251.87500 |\n",
      " 4  |   5  | 296156.96875 |\n",
      " 4  |   6  | 296097.62500 |\n",
      " 4  |   7  | 296046.46875 |\n",
      " 4  |   8  | 296007.37500 |\n",
      " 4  |   9  | 295967.15625 |\n",
      " 4  |   10  | 295899.28125 |\n",
      " 4  |   11  | 295817.75000 |\n",
      " 4  |   12  | 295729.12500 |\n",
      " 4  |   13  | 295610.59375 |\n",
      " 4  |   14  | 295500.62500 |\n",
      " 4  |   15  | 295385.40625 |\n",
      " 4  |   16  | 295314.31250 |\n",
      " 4  |   17  | 295199.37500 |\n",
      " 4  |   18  | 295105.68750 |\n",
      " 4  |   19  | 294947.46875 |\n",
      " 4  |   20  | 294877.00000 |\n",
      " 4  |   21  | 294749.03125 |\n",
      " 4  |   22  | 294704.56250 |\n",
      " 4  |   23  | 294650.53125 |\n",
      " 4  |   24  | 294617.87500 |\n",
      " 4  |   25  | 294581.93750 |\n",
      " 4  |   26  | 294552.03125 |\n",
      " 4  |   27  | 294519.81250 |\n",
      " 4  |   28  | 294475.28125 |\n",
      " 4  |   29  | 294435.56250 |\n",
      " 4  |   30  | 294400.96875 |\n",
      " 4  |   31  | 294371.15625 |\n",
      " 4  |   32  | 294347.56250 |\n",
      " 4  |   33  | 294317.53125 |\n",
      " 4  |   34  | 294287.43750 |\n",
      " 4  |   35  | 294270.68750 |\n",
      " 4  |   36  | 294251.90625 |\n",
      " 4  |   37  | 294238.12500 |\n",
      " 4  |   38  | 294229.15625 |\n",
      " 4  |   39  | 294219.96875 |\n",
      " 4  |   40  | 294214.09375 |\n",
      " 4  |   41  | 294207.90625 |\n",
      " 4  |   42  | 294202.12500 |\n",
      " 4  |   43  | 294194.53125 |\n",
      " 4  |   44  | 294185.87500 |\n",
      " 4  |   45  | 294175.56250 |\n",
      " 4  |   46  | 294161.96875 |\n",
      " 4  |   47  | 294149.21875 |\n",
      " 4  |   48  | 294134.71875 |\n",
      " 4  |   49  | 294116.71875 |\n",
      "Objective function is NAN. Probably due to empty class\n"
     ]
    }
   ],
   "source": [
    "try:\n",
    "    success, loglike = train_with_LBFGS(model)\n",
    "except KeyboardInterrupt:\n",
    "    print(\"KeyboardInterrupt detected, stopping training\")"
   ]
  },
  {
   "cell_type": "markdown",
   "metadata": {},
   "source": [
    "Reparametrization"
   ]
  },
  {
   "cell_type": "code",
   "execution_count": 9,
   "metadata": {},
   "outputs": [],
   "source": [
    "(   nu_a,\n",
    "    rho_a,\n",
    "    nu_b,\n",
    "    rho_b,\n",
    "    nu_p,\n",
    "    rho_p,\n",
    "    nu_q,\n",
    "    rho_q,\n",
    "    tau_1,\n",
    "    tau_2,\n",
    "    mu_un,\n",
    "    sigma_sq_a,\n",
    "    sigma_sq_b,\n",
    "    sigma_sq_p,\n",
    "    sigma_sq_q,\n",
    "    alpha_1,\n",
    "    alpha_2,\n",
    "    pi,\n",
    ") = reparametrized_expanded_params(torch.cat((model.variationnal_params, model.model_params)), n1, n2, nq, nl, device)"
   ]
  },
  {
   "cell_type": "markdown",
   "metadata": {},
   "source": [
    "Save parameters in YAML file (trained_parameters.yaml)"
   ]
  },
  {
   "cell_type": "code",
   "execution_count": 10,
   "metadata": {},
   "outputs": [],
   "source": [
    "parameters_dict = {\n",
    "    'n1': n1, \n",
    "    'n2': n2,\n",
    "    'nq': nq, \n",
    "    'nl': nl,\n",
    "    'nu_a':nu_a,\n",
    "    'rho_a':rho_a,\n",
    "    'nu_b':nu_b,\n",
    "    'rho_b':rho_b,\n",
    "    'nu_p': nu_p,\n",
    "    'rho_p':rho_p,\n",
    "    'nu_q':nu_q,\n",
    "    'rho_q':rho_q,\n",
    "    'tau_1':tau_1,\n",
    "    'tau_2':tau_2,\n",
    "    'mu_un':mu_un,\n",
    "    'sigma_sq_a': sigma_sq_a,\n",
    "    'sigma_sq_b':sigma_sq_b,\n",
    "    'sigma_sq_p':sigma_sq_p,\n",
    "    'sigma_sq_q':sigma_sq_q,\n",
    "    'alpha_1':alpha_1,\n",
    "    'alpha_2':alpha_2,\n",
    "    'pi':pi,\n",
    "    'indices_p': indices_p,\n",
    "    'indices_n':indices_n,\n",
    "    'indices_zeros': indices_zeros,\n",
    "    'device': device, \n",
    "    'device2': device2,\n",
    "}\n",
    "\n",
    "save_objects_to_yaml(parameters_dict, 'trained_parameters.yaml')"
   ]
  }
 ],
 "metadata": {
  "kernelspec": {
   "display_name": "Python 3",
   "language": "python",
   "name": "python3"
  },
  "language_info": {
   "codemirror_mode": {
    "name": "ipython",
    "version": 3
   },
   "file_extension": ".py",
   "mimetype": "text/x-python",
   "name": "python",
   "nbconvert_exporter": "python",
   "pygments_lexer": "ipython3",
   "version": "3.8.18"
  }
 },
 "nbformat": 4,
 "nbformat_minor": 2
}
